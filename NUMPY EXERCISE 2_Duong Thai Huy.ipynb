{
 "cells": [
  {
   "cell_type": "code",
   "execution_count": 1,
   "metadata": {},
   "outputs": [],
   "source": [
    "#1. Import Numpy\n",
    "import numpy as np"
   ]
  },
  {
   "cell_type": "code",
   "execution_count": 10,
   "metadata": {},
   "outputs": [
    {
     "data": {
      "text/plain": [
       "array([[ 1,  2,  3,  4,  5],\n",
       "       [ 6,  7,  8,  9, 10],\n",
       "       [11, 12, 13, 14, 15]])"
      ]
     },
     "execution_count": 10,
     "metadata": {},
     "output_type": "execute_result"
    }
   ],
   "source": [
    "#2. Manually create a matrix: Create a 3-by-5 matrix and print it out to the screen\n",
    "a = np.array([[1,2,3,4,5],[6,7,8,9,10],[11,12,13,14,15]]) \n",
    "a.shape = (3,5) \n",
    "a"
   ]
  },
  {
   "cell_type": "code",
   "execution_count": 11,
   "metadata": {},
   "outputs": [
    {
     "data": {
      "text/plain": [
       "array([0, 1, 2, 3, 4, 5, 6, 7, 8, 9])"
      ]
     },
     "execution_count": 11,
     "metadata": {},
     "output_type": "execute_result"
    }
   ],
   "source": [
    "#3. Manually create a vector: Create a vector which has 10 elements and print it out to the screen\n",
    "x = np.arange(10)\n",
    "x"
   ]
  },
  {
   "cell_type": "code",
   "execution_count": 30,
   "metadata": {},
   "outputs": [
    {
     "data": {
      "text/plain": [
       "array([[19, 70, 19, 39, 90],\n",
       "       [16, 82, 37,  4, 19],\n",
       "       [81, 94, 74, 34, 72]])"
      ]
     },
     "execution_count": 30,
     "metadata": {},
     "output_type": "execute_result"
    }
   ],
   "source": [
    "#4.1 Automatically create a 3-by-5 matrix which has interger values in the range of [0, 100]\n",
    "a = np.random.randint(0,100,[3,5])\n",
    "a"
   ]
  },
  {
   "cell_type": "code",
   "execution_count": 13,
   "metadata": {},
   "outputs": [
    {
     "data": {
      "text/plain": [
       "array([[24, 40, 56, 64, 47, 23, 63],\n",
       "       [37, 38, 58, 30, 87, 53, 30],\n",
       "       [84, 93, 57, 69, 85, 90, 74],\n",
       "       [87, 35, 77, 59,  2, 15, 30],\n",
       "       [86, 39, 89, 64, 33, 12, 50]])"
      ]
     },
     "execution_count": 13,
     "metadata": {},
     "output_type": "execute_result"
    }
   ],
   "source": [
    "#4.2 Automatically create a 5-by-7 matrix which has interger values in the range of [0, 100]\n",
    "b = np.random.randint(0,100,[5,7])\n",
    "b"
   ]
  },
  {
   "cell_type": "code",
   "execution_count": 15,
   "metadata": {},
   "outputs": [
    {
     "data": {
      "text/plain": [
       "array([[1272, 3120, 1008, 5952, 3713, 2047, 4158],\n",
       "       [1665,  798, 4466, 1980, 8439, 5194, 1500],\n",
       "       [7392, 5301,  456,  828, 3825, 3150, 7178],\n",
       "       [ 696, 1435, 7084,  708,   94,  945, 1950],\n",
       "       [ 688, 3081, 5073, 1408,  891,   84, 3500]])"
      ]
     },
     "execution_count": 15,
     "metadata": {},
     "output_type": "execute_result"
    }
   ],
   "source": [
    "#4.4 Implementy matrix multiplication of the above 2 matrices and print the result to the screen (let us call this result matrixx is C)\n",
    "c = a*b\n",
    "c"
   ]
  },
  {
   "cell_type": "code",
   "execution_count": 16,
   "metadata": {},
   "outputs": [
    {
     "name": "stdout",
     "output_type": "stream",
     "text": [
      "Random number from keyboard = 2\n"
     ]
    }
   ],
   "source": [
    "#5. Scalar multiplication:\n",
    "n = int(input(\"Random number from keyboard = \"))"
   ]
  },
  {
   "cell_type": "code",
   "execution_count": 20,
   "metadata": {},
   "outputs": [
    {
     "data": {
      "text/plain": [
       "array([[ 2544,  6240,  2016, 11904,  7426,  4094,  8316],\n",
       "       [ 3330,  1596,  8932,  3960, 16878, 10388,  3000],\n",
       "       [14784, 10602,   912,  1656,  7650,  6300, 14356],\n",
       "       [ 1392,  2870, 14168,  1416,   188,  1890,  3900],\n",
       "       [ 1376,  6162, 10146,  2816,  1782,   168,  7000]])"
      ]
     },
     "execution_count": 20,
     "metadata": {},
     "output_type": "execute_result"
    }
   ],
   "source": [
    "d = n * c\n",
    "d"
   ]
  },
  {
   "cell_type": "code",
   "execution_count": 23,
   "metadata": {},
   "outputs": [
    {
     "data": {
      "text/plain": [
       "array([[ 4],\n",
       "       [ 6],\n",
       "       [-4],\n",
       "       [19],\n",
       "       [ 7],\n",
       "       [21],\n",
       "       [23]])"
      ]
     },
     "execution_count": 23,
     "metadata": {},
     "output_type": "execute_result"
    }
   ],
   "source": [
    "#6. Automatically create vector. Automattically create a vector at size of 7-by-1 which has values in the range of [-10, 30]. And multiply the C matrix with this vector. Print the result to the screen.\n",
    "e = np.random.randint(-10,30,(7,1))\n",
    "e"
   ]
  },
  {
   "cell_type": "code",
   "execution_count": 26,
   "metadata": {},
   "outputs": [
    {
     "data": {
      "text/plain": [
       "array([[297476],\n",
       "       [233851],\n",
       "       [333301],\n",
       "       [ 61863],\n",
       "       [116199]])"
      ]
     },
     "execution_count": 26,
     "metadata": {},
     "output_type": "execute_result"
    }
   ],
   "source": [
    "y = c.dot(e)\n",
    "y"
   ]
  },
  {
   "cell_type": "code",
   "execution_count": 36,
   "metadata": {},
   "outputs": [
    {
     "data": {
      "text/plain": [
       "array([[0.37217062, 0.00807048, 0.60283806, 0.16857938, 0.46721333,\n",
       "        0.48190974, 0.66399973, 0.84440435, 0.68954135, 0.0313227 ,\n",
       "        0.56107109, 0.50525358, 0.32424353, 0.72558523, 0.24243665],\n",
       "       [0.22319053, 0.52601526, 0.99179508, 0.79817757, 0.41430458,\n",
       "        0.86369638, 0.28473335, 0.9047283 , 0.93992564, 0.94144952,\n",
       "        0.92769151, 0.12047167, 0.69533639, 0.35595344, 0.73876027],\n",
       "       [0.6773824 , 0.44071965, 0.5556412 , 0.03849614, 0.50452704,\n",
       "        0.68632035, 0.70763908, 0.06821518, 0.52325325, 0.26051071,\n",
       "        0.741366  , 0.75377748, 0.70333491, 0.72972336, 0.61967446],\n",
       "       [0.96150757, 0.60130909, 0.07407014, 0.11785897, 0.18284149,\n",
       "        0.89804645, 0.65980067, 0.6698433 , 0.13398754, 0.29560795,\n",
       "        0.56234813, 0.43652183, 0.08012968, 0.12758029, 0.32728152],\n",
       "       [0.18357819, 0.65889904, 0.96402764, 0.23926402, 0.48843266,\n",
       "        0.83549309, 0.93764874, 0.82891375, 0.70030826, 0.57356575,\n",
       "        0.58228544, 0.23582501, 0.09789159, 0.60559628, 0.55242336],\n",
       "       [0.05894459, 0.3305528 , 0.86612072, 0.35567447, 0.65798548,\n",
       "        0.6175515 , 0.21279721, 0.58021573, 0.1090475 , 0.00247392,\n",
       "        0.87473194, 0.70438388, 0.50025227, 0.72735283, 0.72106803],\n",
       "       [0.78862157, 0.43794069, 0.07694073, 0.32308056, 0.57801247,\n",
       "        0.2062981 , 0.6279913 , 0.94110925, 0.25937608, 0.27342187,\n",
       "        0.16850986, 0.62770457, 0.35474544, 0.72682703, 0.32666412]])"
      ]
     },
     "execution_count": 36,
     "metadata": {},
     "output_type": "execute_result"
    }
   ],
   "source": [
    "#7. Matrix slicing\n",
    "#7.1 Automatically create a matrix at size of 7-by-15\n",
    "z = np.random.rand(7,15)\n",
    "z"
   ]
  },
  {
   "cell_type": "code",
   "execution_count": 40,
   "metadata": {},
   "outputs": [
    {
     "data": {
      "text/plain": [
       "array([0.37217062, 0.22319053, 0.6773824 , 0.96150757, 0.18357819,\n",
       "       0.05894459, 0.78862157])"
      ]
     },
     "execution_count": 40,
     "metadata": {},
     "output_type": "execute_result"
    }
   ],
   "source": [
    "#7.2 Print out the first column of this matrix\n",
    "z[...,0] "
   ]
  },
  {
   "cell_type": "code",
   "execution_count": 41,
   "metadata": {},
   "outputs": [
    {
     "data": {
      "text/plain": [
       "array([0.6773824 , 0.44071965, 0.5556412 , 0.03849614, 0.50452704,\n",
       "       0.68632035, 0.70763908, 0.06821518, 0.52325325, 0.26051071,\n",
       "       0.741366  , 0.75377748, 0.70333491, 0.72972336, 0.61967446])"
      ]
     },
     "execution_count": 41,
     "metadata": {},
     "output_type": "execute_result"
    }
   ],
   "source": [
    "#7.3 Print out the third row of this matrix\n",
    "z[2,...] "
   ]
  },
  {
   "cell_type": "code",
   "execution_count": 42,
   "metadata": {},
   "outputs": [
    {
     "data": {
      "text/plain": [
       "0.6013090928957572"
      ]
     },
     "execution_count": 42,
     "metadata": {},
     "output_type": "execute_result"
    }
   ],
   "source": [
    "#7.4 Print out the element at the second column and fourth row\n",
    "z[3,1] "
   ]
  },
  {
   "cell_type": "code",
   "execution_count": 43,
   "metadata": {},
   "outputs": [
    {
     "data": {
      "text/plain": [
       "array([[0.37217062, 0.22319053, 0.6773824 , 0.96150757, 0.18357819,\n",
       "        0.05894459, 0.78862157],\n",
       "       [0.00807048, 0.52601526, 0.44071965, 0.60130909, 0.65889904,\n",
       "        0.3305528 , 0.43794069],\n",
       "       [0.60283806, 0.99179508, 0.5556412 , 0.07407014, 0.96402764,\n",
       "        0.86612072, 0.07694073],\n",
       "       [0.16857938, 0.79817757, 0.03849614, 0.11785897, 0.23926402,\n",
       "        0.35567447, 0.32308056],\n",
       "       [0.46721333, 0.41430458, 0.50452704, 0.18284149, 0.48843266,\n",
       "        0.65798548, 0.57801247],\n",
       "       [0.48190974, 0.86369638, 0.68632035, 0.89804645, 0.83549309,\n",
       "        0.6175515 , 0.2062981 ],\n",
       "       [0.66399973, 0.28473335, 0.70763908, 0.65980067, 0.93764874,\n",
       "        0.21279721, 0.6279913 ],\n",
       "       [0.84440435, 0.9047283 , 0.06821518, 0.6698433 , 0.82891375,\n",
       "        0.58021573, 0.94110925],\n",
       "       [0.68954135, 0.93992564, 0.52325325, 0.13398754, 0.70030826,\n",
       "        0.1090475 , 0.25937608],\n",
       "       [0.0313227 , 0.94144952, 0.26051071, 0.29560795, 0.57356575,\n",
       "        0.00247392, 0.27342187],\n",
       "       [0.56107109, 0.92769151, 0.741366  , 0.56234813, 0.58228544,\n",
       "        0.87473194, 0.16850986],\n",
       "       [0.50525358, 0.12047167, 0.75377748, 0.43652183, 0.23582501,\n",
       "        0.70438388, 0.62770457],\n",
       "       [0.32424353, 0.69533639, 0.70333491, 0.08012968, 0.09789159,\n",
       "        0.50025227, 0.35474544],\n",
       "       [0.72558523, 0.35595344, 0.72972336, 0.12758029, 0.60559628,\n",
       "        0.72735283, 0.72682703],\n",
       "       [0.24243665, 0.73876027, 0.61967446, 0.32728152, 0.55242336,\n",
       "        0.72106803, 0.32666412]])"
      ]
     },
     "execution_count": 43,
     "metadata": {},
     "output_type": "execute_result"
    }
   ],
   "source": [
    "#8. Matrix transposition. Perform the matrix transposition of the matrix in question 7 and print out to the screen.\n",
    "w = z.T\n",
    "w"
   ]
  },
  {
   "cell_type": "code",
   "execution_count": 49,
   "metadata": {},
   "outputs": [
    {
     "data": {
      "text/plain": [
       "array([[-9, 16, 16],\n",
       "       [-2, 13, 16]])"
      ]
     },
     "execution_count": 49,
     "metadata": {},
     "output_type": "execute_result"
    }
   ],
   "source": [
    "#9. Matrix addition. Automatically create 2 integer matrices whicch have values in the range of [-10, 30]\n",
    "j = np.random.randint(-10,30,[2,3])\n",
    "j"
   ]
  },
  {
   "cell_type": "code",
   "execution_count": 52,
   "metadata": {},
   "outputs": [
    {
     "data": {
      "text/plain": [
       "array([[ 3, 11, 20],\n",
       "       [13, -4,  4]])"
      ]
     },
     "execution_count": 52,
     "metadata": {},
     "output_type": "execute_result"
    }
   ],
   "source": [
    "k = np.random.randint(-10,30,[2,3])\n",
    "k"
   ]
  },
  {
   "cell_type": "code",
   "execution_count": 53,
   "metadata": {},
   "outputs": [
    {
     "data": {
      "text/plain": [
       "array([[-6, 27, 36],\n",
       "       [11,  9, 20]])"
      ]
     },
     "execution_count": 53,
     "metadata": {},
     "output_type": "execute_result"
    }
   ],
   "source": [
    "#9.3 Perform matrix addition of the above 2 matrices and print the result to the screen.\n",
    "g = j + k\n",
    "g"
   ]
  },
  {
   "cell_type": "code",
   "execution_count": null,
   "metadata": {},
   "outputs": [],
   "source": []
  }
 ],
 "metadata": {
  "kernelspec": {
   "display_name": "Python 3",
   "language": "python",
   "name": "python3"
  },
  "language_info": {
   "codemirror_mode": {
    "name": "ipython",
    "version": 3
   },
   "file_extension": ".py",
   "mimetype": "text/x-python",
   "name": "python",
   "nbconvert_exporter": "python",
   "pygments_lexer": "ipython3",
   "version": "3.7.1"
  }
 },
 "nbformat": 4,
 "nbformat_minor": 2
}
